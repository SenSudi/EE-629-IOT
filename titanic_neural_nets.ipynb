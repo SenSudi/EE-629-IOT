{
 "cells": [
  {
   "cell_type": "code",
   "execution_count": 1,
   "metadata": {},
   "outputs": [],
   "source": [
    "import pandas as pd  \n",
    "# import matplotlib.pyplot as plt\n",
    "from sklearn.model_selection import KFold, train_test_split    # K-fold cross validation\n",
    "from sklearn.preprocessing import LabelEncoder as LE\n",
    "\n",
    "dataset = pd.read_csv(r\"C:\\Users\\sandip\\Desktop\\Stevens_study_material\\CPE695\\hw3\\Titanic.csv\", usecols=[1,2,4,5,6])\n",
    "column_headers = dataset.columns.values.tolist()            # to get the names of the column headers used, in a list\n",
    "\n",
    "'''columns_with_null_values = []\n",
    "for column in column_headers:\n",
    "    if dataset[column].isnull().values.any():\n",
    "        columns_with_null_values.append(column)'''\n",
    "\n",
    "dataset.dropna(inplace = True)      # omitting null values\n",
    "\n",
    "dataset = pd.get_dummies(dataset, columns =['pclass', 'sex'])\n",
    "dataset['survived'] = LE().fit_transform(dataset['survived'])   # implementing LabelEncoder() for fitting ; Fits label encoder and returns encoded labels\n",
    "\n",
    "X_train, X_test, Y_train, Y_test = train_test_split(dataset.iloc[:,1:] , dataset.iloc[:,0] , test_size = 0.2, random_state = 21)   \n",
    "# .iloc => integer based => returns a pandas set when one row is selected and Pandas DataFrame when multiple rows are selected."
   ]
  },
  {
   "cell_type": "code",
   "execution_count": 2,
   "metadata": {},
   "outputs": [
    {
     "name": "stdout",
     "output_type": "stream",
     "text": [
      "[[440  49]\n",
      " [113 234]]\n",
      "[[123   7]\n",
      " [ 27  53]]\n",
      "number of out-of-sample survivors correctly predicted: 7\n",
      "number of out-of-sample fatalities correctly predicted: 27\n",
      "MIsclassified: 34\n"
     ]
    }
   ],
   "source": [
    "from sklearn.neural_network import MLPClassifier\n",
    "from sklearn.metrics import confusion_matrix\n",
    "\n",
    "clf = MLPClassifier(activation='logistic', solver='adam', learning_rate='constant', momentum=0.9, alpha=0.0001, hidden_layer_sizes=(4, 2), max_iter=5000,  random_state=21)\n",
    "# activation='logistic' => means sigmoid function ; alpha= regularization hyperparameter., solver = 'adam'\n",
    "clf.fit(X_train, Y_train)\n",
    "y_pred_train = clf.predict(X_train)\n",
    "y_pred_test = clf.predict(X_test)\n",
    "\n",
    "cf_train = confusion_matrix(Y_train, y_pred_train)\n",
    "cf_test = confusion_matrix(Y_test, y_pred_test)\n",
    "\n",
    "print(cf_train)\n",
    "print(cf_test)\n",
    "print('number of out-of-sample survivors correctly predicted:', cf_test[0][1])\n",
    "print('number of out-of-sample fatalities correctly predicted:', cf_test[1][0])\n",
    "print('MIsclassified:', cf_test[0][1] + cf_test[1][0])  # number of misclassifications for pruned DT is 67"
   ]
  },
  {
   "cell_type": "code",
   "execution_count": 3,
   "metadata": {},
   "outputs": [
    {
     "name": "stdout",
     "output_type": "stream",
     "text": [
      "[[432  57]\n",
      " [117 230]]\n",
      "[[119  11]\n",
      " [ 27  53]]\n",
      "number of out-of-sample survivors correctly predicted: 11\n",
      "number of out-of-sample fatalities correctly predicted: 27\n",
      "MIsclassified: 38\n"
     ]
    }
   ],
   "source": [
    "# Second type of network structure:\n",
    "clf = MLPClassifier(activation='logistic', solver='adam', learning_rate='adaptive', momentum=0.9, alpha=0.0001, hidden_layer_sizes=(7, 5), max_iter=7000,  random_state=21)\n",
    "# activation='logistic' => means sigmoid function ; alpha= regularization hyperparameter., solver = 'adam'\n",
    "clf.fit(X_train, Y_train)\n",
    "y_pred_train = clf.predict(X_train)\n",
    "y_pred_test = clf.predict(X_test)\n",
    "\n",
    "cf_train = confusion_matrix(Y_train, y_pred_train)\n",
    "cf_test = confusion_matrix(Y_test, y_pred_test)\n",
    "\n",
    "print(cf_train)\n",
    "print(cf_test)\n",
    "print('number of out-of-sample survivors correctly predicted:', cf_test[0][1])\n",
    "print('number of out-of-sample fatalities correctly predicted:', cf_test[1][0])\n",
    "print('MIsclassified:', cf_test[0][1] + cf_test[1][0])  # number of misclassifications for pruned DT is 67, for previous network structure is 34"
   ]
  },
  {
   "cell_type": "code",
   "execution_count": null,
   "metadata": {},
   "outputs": [],
   "source": []
  }
 ],
 "metadata": {
  "kernelspec": {
   "display_name": "Python 3",
   "language": "python",
   "name": "python3"
  },
  "language_info": {
   "codemirror_mode": {
    "name": "ipython",
    "version": 3
   },
   "file_extension": ".py",
   "mimetype": "text/x-python",
   "name": "python",
   "nbconvert_exporter": "python",
   "pygments_lexer": "ipython3",
   "version": "3.8.3"
  }
 },
 "nbformat": 4,
 "nbformat_minor": 4
}
